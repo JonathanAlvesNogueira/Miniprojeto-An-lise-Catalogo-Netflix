{
 "cells": [
  {
   "cell_type": "code",
   "execution_count": 1,
   "metadata": {},
   "outputs": [
    {
     "name": "stdout",
     "output_type": "stream",
     "text": [
      "+---------+---------+--------------------+--------------------+-------+---------+-------+--------------+--------------------+\n",
      "|   tconst|titleType|        primaryTitle|       originalTitle|isAdult|startYear|endYear|runtimeMinutes|              genres|\n",
      "+---------+---------+--------------------+--------------------+-------+---------+-------+--------------+--------------------+\n",
      "|tt0000001|    short|          Carmencita|          Carmencita|      0|     1894|     \\N|             1|   Documentary,Short|\n",
      "|tt0000002|    short|Le clown et ses c...|Le clown et ses c...|      0|     1892|     \\N|             5|     Animation,Short|\n",
      "|tt0000003|    short|      Pauvre Pierrot|      Pauvre Pierrot|      0|     1892|     \\N|             4|Animation,Comedy,...|\n",
      "|tt0000004|    short|         Un bon bock|         Un bon bock|      0|     1892|     \\N|            12|     Animation,Short|\n",
      "|tt0000005|    short|    Blacksmith Scene|    Blacksmith Scene|      0|     1893|     \\N|             1|        Comedy,Short|\n",
      "|tt0000006|    short|   Chinese Opium Den|   Chinese Opium Den|      0|     1894|     \\N|             1|               Short|\n",
      "|tt0000007|    short|Corbett and Court...|Corbett and Court...|      0|     1894|     \\N|             1|         Short,Sport|\n",
      "|tt0000008|    short|Edison Kinetoscop...|Edison Kinetoscop...|      0|     1894|     \\N|             1|   Documentary,Short|\n",
      "|tt0000009|    movie|          Miss Jerry|          Miss Jerry|      0|     1894|     \\N|            45|             Romance|\n",
      "|tt0000010|    short| Leaving the Factory|La sortie de l'us...|      0|     1895|     \\N|             1|   Documentary,Short|\n",
      "|tt0000011|    short|Akrobatisches Pot...|Akrobatisches Pot...|      0|     1895|     \\N|             1|   Documentary,Short|\n",
      "|tt0000012|    short|The Arrival of a ...|L'arrivée d'un tr...|      0|     1896|     \\N|             1|   Documentary,Short|\n",
      "|tt0000013|    short|The Photographica...|Le débarquement d...|      0|     1895|     \\N|             1|   Documentary,Short|\n",
      "|tt0000014|    short| The Waterer Watered|   L'arroseur arrosé|      0|     1895|     \\N|             1|        Comedy,Short|\n",
      "|tt0000015|    short| Autour d'une cabine| Autour d'une cabine|      0|     1894|     \\N|             2|     Animation,Short|\n",
      "|tt0000016|    short|Boat Leaving the ...|Barque sortant du...|      0|     1895|     \\N|             1|   Documentary,Short|\n",
      "|tt0000017|    short|Italienischer Bau...|Italienischer Bau...|      0|     1895|     \\N|             1|   Documentary,Short|\n",
      "|tt0000018|    short|Das boxende Känguruh|Das boxende Känguruh|      0|     1895|     \\N|             1|               Short|\n",
      "|tt0000019|    short|    The Clown Barber|    The Clown Barber|      0|     1898|     \\N|            \\N|        Comedy,Short|\n",
      "|tt0000020|    short|      The Derby 1895|      The Derby 1895|      0|     1895|     \\N|             1|Documentary,Short...|\n",
      "+---------+---------+--------------------+--------------------+-------+---------+-------+--------------+--------------------+\n",
      "only showing top 20 rows\n",
      "\n"
     ]
    }
   ],
   "source": [
    "import pyspark\n",
    "from pyspark.sql import SparkSession\n",
    "import pandas as pd\n",
    "import numpy as np\n",
    "from datetime import datetime, timedelta\n",
    "\n",
    "spark = SparkSession.builder.appName('Teste').getOrCreate()\n",
    "\n",
    "df_titles = spark.read.load(r'C:\\Users\\joth1\\Documents\\z_projetinho_pyspark\\titles.csv',     header=True,  inferSchema=True,    sep=',',    format='csv')\n",
    "df_titles.show()"
   ]
  },
  {
   "cell_type": "markdown",
   "metadata": {},
   "source": [
    "#### Podemos notar que dentro da tabela existem 10MMM de filmes, nesse trecho abaixo trago tambem as colunas tratadas"
   ]
  },
  {
   "cell_type": "code",
   "execution_count": 33,
   "metadata": {},
   "outputs": [
    {
     "name": "stdout",
     "output_type": "stream",
     "text": [
      "+---------+----------+--------------------+--------------------+---------------+--------------+-------+-----------+--------------------+\n",
      "| id_filme|tipo_filme|        primaryTitle|       originalTitle|fl_filme_adulto|ano_lancamento|endYear|tempo_filme|              genero|\n",
      "+---------+----------+--------------------+--------------------+---------------+--------------+-------+-----------+--------------------+\n",
      "|tt0000001|     short|          Carmencita|          Carmencita|              0|          1894|     \\N|          1|   Documentary,Short|\n",
      "|tt0000002|     short|Le clown et ses c...|Le clown et ses c...|              0|          1892|     \\N|          5|     Animation,Short|\n",
      "|tt0000003|     short|      Pauvre Pierrot|      Pauvre Pierrot|              0|          1892|     \\N|          4|Animation,Comedy,...|\n",
      "|tt0000004|     short|         Un bon bock|         Un bon bock|              0|          1892|     \\N|         12|     Animation,Short|\n",
      "|tt0000005|     short|    Blacksmith Scene|    Blacksmith Scene|              0|          1893|     \\N|          1|        Comedy,Short|\n",
      "|tt0000006|     short|   Chinese Opium Den|   Chinese Opium Den|              0|          1894|     \\N|          1|               Short|\n",
      "|tt0000007|     short|Corbett and Court...|Corbett and Court...|              0|          1894|     \\N|          1|         Short,Sport|\n",
      "|tt0000008|     short|Edison Kinetoscop...|Edison Kinetoscop...|              0|          1894|     \\N|          1|   Documentary,Short|\n",
      "|tt0000009|     movie|          Miss Jerry|          Miss Jerry|              0|          1894|     \\N|         45|             Romance|\n",
      "|tt0000010|     short| Leaving the Factory|La sortie de l'us...|              0|          1895|     \\N|          1|   Documentary,Short|\n",
      "|tt0000011|     short|Akrobatisches Pot...|Akrobatisches Pot...|              0|          1895|     \\N|          1|   Documentary,Short|\n",
      "|tt0000012|     short|The Arrival of a ...|L'arrivée d'un tr...|              0|          1896|     \\N|          1|   Documentary,Short|\n",
      "|tt0000013|     short|The Photographica...|Le débarquement d...|              0|          1895|     \\N|          1|   Documentary,Short|\n",
      "|tt0000014|     short| The Waterer Watered|   L'arroseur arrosé|              0|          1895|     \\N|          1|        Comedy,Short|\n",
      "|tt0000015|     short| Autour d'une cabine| Autour d'une cabine|              0|          1894|     \\N|          2|     Animation,Short|\n",
      "|tt0000016|     short|Boat Leaving the ...|Barque sortant du...|              0|          1895|     \\N|          1|   Documentary,Short|\n",
      "|tt0000017|     short|Italienischer Bau...|Italienischer Bau...|              0|          1895|     \\N|          1|   Documentary,Short|\n",
      "|tt0000018|     short|Das boxende Känguruh|Das boxende Känguruh|              0|          1895|     \\N|          1|               Short|\n",
      "|tt0000019|     short|    The Clown Barber|    The Clown Barber|              0|          1898|     \\N|         \\N|        Comedy,Short|\n",
      "|tt0000020|     short|      The Derby 1895|      The Derby 1895|              0|          1895|     \\N|          1|Documentary,Short...|\n",
      "+---------+----------+--------------------+--------------------+---------------+--------------+-------+-----------+--------------------+\n",
      "only showing top 20 rows\n",
      "\n",
      "+--------+\n",
      "|     QTD|\n",
      "+--------+\n",
      "|10671248|\n",
      "+--------+\n",
      "\n"
     ]
    }
   ],
   "source": [
    "# ALTERE ESSA PARTE \n",
    "colunas_que_quero_renomear = ['tconst', 'titleType','isAdult', 'genres', 'runtimeMinutes', 'startYear']\n",
    "novos_nomes_colunas = ['id_filme', 'tipo_filme', 'fl_filme_adulto', 'genero', 'tempo_filme', 'ano_lancamento']\n",
    "\n",
    "# Cria um dictionary juntando as duas listas.\n",
    "# Ou seja eu crio uma estrutura {nome_antiga_coluna : nome_nova_coluna}\n",
    "# e reuso ela no for abaixo para substituir o nome das colunas.  NÃO ALTERE A PARTE ABAIXO\n",
    "novas_colunas = {antiga_coluna : nova_coluna for antiga_coluna, nova_coluna in zip(colunas_que_quero_renomear, novos_nomes_colunas)}\n",
    "\n",
    "for coluna_antiga, coluna_nova in novas_colunas.items():\n",
    "    if coluna_antiga in df_titles.columns:\n",
    "        df_titles = df_titles.withColumnRenamed(coluna_antiga, coluna_nova)\n",
    "\n",
    "df_titles.show()\n",
    "df_titles.createOrReplaceTempView('titulos')\n",
    "\n",
    "\n",
    "contador_titles = spark.sql(\"\"\"SELECT COUNT(*) AS QTD FROM titulos\"\"\")\n",
    "contador_titles.show()"
   ]
  },
  {
   "cell_type": "markdown",
   "metadata": {},
   "source": [
    "#### Nesse trecho abaixo trago os filmes presentes na netflix com seu titulo, diretor e tipo de filme "
   ]
  },
  {
   "cell_type": "code",
   "execution_count": 34,
   "metadata": {},
   "outputs": [
    {
     "name": "stdout",
     "output_type": "stream",
     "text": [
      "+-------+-------+--------------------+--------------------+--------------------+--------------------+------------------+------------+------+---------+--------------------+--------------------+\n",
      "|show_id|   type|               title|            director|                cast|             country|        date_added|release_year|rating| duration|           listed_in|         description|\n",
      "+-------+-------+--------------------+--------------------+--------------------+--------------------+------------------+------------+------+---------+--------------------+--------------------+\n",
      "|     s1|  Movie|Dick Johnson Is Dead|     Kirsten Johnson|                NULL|       United States|September 25, 2021|        2020| PG-13|   90 min|       Documentaries|As her father nea...|\n",
      "|     s2|TV Show|       Blood & Water|                NULL|Ama Qamata, Khosi...|        South Africa|September 24, 2021|        2021| TV-MA|2 Seasons|International TV ...|After crossing pa...|\n",
      "|     s3|TV Show|           Ganglands|     Julien Leclercq|Sami Bouajila, Tr...|                NULL|September 24, 2021|        2021| TV-MA| 1 Season|Crime TV Shows, I...|To protect his fa...|\n",
      "|     s4|TV Show|Jailbirds New Orl...|                NULL|                NULL|                NULL|September 24, 2021|        2021| TV-MA| 1 Season|Docuseries, Reali...|Feuds, flirtation...|\n",
      "|     s5|TV Show|        Kota Factory|                NULL|Mayur More, Jiten...|               India|September 24, 2021|        2021| TV-MA|2 Seasons|International TV ...|In a city of coac...|\n",
      "|     s6|TV Show|       Midnight Mass|       Mike Flanagan|Kate Siegel, Zach...|                NULL|September 24, 2021|        2021| TV-MA| 1 Season|TV Dramas, TV Hor...|The arrival of a ...|\n",
      "|     s7|  Movie|My Little Pony: A...|Robert Cullen, Jo...|Vanessa Hudgens, ...|                NULL|September 24, 2021|        2021|    PG|   91 min|Children & Family...|Equestria's divid...|\n",
      "|     s8|  Movie|             Sankofa|        Haile Gerima|Kofi Ghanaba, Oya...|United States, Gh...|September 24, 2021|        1993| TV-MA|  125 min|Dramas, Independe...|On a photo shoot ...|\n",
      "|     s9|TV Show|The Great British...|     Andy Devonshire|Mel Giedroyc, Sue...|      United Kingdom|September 24, 2021|        2021| TV-14|9 Seasons|British TV Shows,...|A talented batch ...|\n",
      "|    s10|  Movie|        The Starling|      Theodore Melfi|Melissa McCarthy,...|       United States|September 24, 2021|        2021| PG-13|  104 min|    Comedies, Dramas|A woman adjusting...|\n",
      "|    s11|TV Show|Vendetta: Truth, ...|                NULL|                NULL|                NULL|September 24, 2021|        2021| TV-MA| 1 Season|Crime TV Shows, D...|\"Sicily boasts a ...|\n",
      "|    s12|TV Show|    Bangkok Breaking|   Kongkiat Komesiri|Sukollawat Kanaro...|                NULL|September 23, 2021|        2021| TV-MA| 1 Season|Crime TV Shows, I...|Struggling to ear...|\n",
      "|    s13|  Movie|        Je Suis Karl| Christian Schwochow|Luna Wedler, Jann...|Germany, Czech Re...|September 23, 2021|        2021| TV-MA|  127 min|Dramas, Internati...|After most of her...|\n",
      "|    s14|  Movie|Confessions of an...|       Bruno Garotti|Klara Castanho, L...|                NULL|September 22, 2021|        2021| TV-PG|   91 min|Children & Family...|When the clever b...|\n",
      "|    s15|TV Show|Crime Stories: In...|                NULL|                NULL|                NULL|September 22, 2021|        2021| TV-MA| 1 Season|British TV Shows,...|Cameras following...|\n",
      "|    s16|TV Show|   Dear White People|                NULL|Logan Browning, B...|       United States|September 22, 2021|        2021| TV-MA|4 Seasons|TV Comedies, TV D...|\"Students of colo...|\n",
      "|    s17|  Movie|Europe's Most Dan...|Pedro de Echave G...|                NULL|                NULL|September 22, 2021|        2020| TV-MA|   67 min|Documentaries, In...|Declassified docu...|\n",
      "|    s18|TV Show|     Falsa identidad|                NULL|Luis Ernesto Fran...|              Mexico|September 22, 2021|        2020| TV-MA|2 Seasons|Crime TV Shows, S...|Strangers Diego a...|\n",
      "|    s19|  Movie|           Intrusion|          Adam Salky|Freida Pinto, Log...|                NULL|September 22, 2021|        2021| TV-14|   94 min|           Thrillers|After a deadly ho...|\n",
      "|    s20|TV Show|              Jaguar|                NULL|Blanca Suárez, Iv...|                NULL|September 22, 2021|        2021| TV-MA| 1 Season|International TV ...|In the 1960s, a H...|\n",
      "+-------+-------+--------------------+--------------------+--------------------+--------------------+------------------+------------+------+---------+--------------------+--------------------+\n",
      "only showing top 20 rows\n",
      "\n"
     ]
    },
    {
     "data": {
      "text/plain": [
       "8809"
      ]
     },
     "metadata": {},
     "output_type": "display_data"
    }
   ],
   "source": [
    "df_netflix = spark.read.load(r'C:\\Users\\joth1\\Documents\\z_projetinho_pyspark\\netflix_titles.csv',     header=True,  inferSchema=True,    sep=',',    format='csv')\n",
    "df_netflix.createOrReplaceTempView('netflix')\n",
    "\n",
    "df_netflix.show()\n",
    "numero = df_netflix.count()\n",
    "display(numero)"
   ]
  },
  {
   "cell_type": "markdown",
   "metadata": {},
   "source": [
    "#### Aqui a ideia era verificar quantos % de filmes a netflix possui"
   ]
  },
  {
   "cell_type": "code",
   "execution_count": 40,
   "metadata": {},
   "outputs": [
    {
     "name": "stdout",
     "output_type": "stream",
     "text": [
      "+-------+-------+--------------------+-------------------+--------------------+--------------------+------------------+------------+------+----------+--------------------+--------------------+---------+----------+--------------------+--------------------+---------------+--------------+-------+-----------+--------------------+\n",
      "|show_id|   type|               title|           director|                cast|             country|        date_added|release_year|rating|  duration|           listed_in|         description| id_filme|tipo_filme|        primaryTitle|       originalTitle|fl_filme_adulto|ano_lancamento|endYear|tempo_filme|              genero|\n",
      "+-------+-------+--------------------+-------------------+--------------------+--------------------+------------------+------------+------+----------+--------------------+--------------------+---------+----------+--------------------+--------------------+---------------+--------------+-------+-----------+--------------------+\n",
      "|  s8335|TV Show|The Great Train R...|               NULL|Luke Evans, Jim B...|      United Kingdom|    March 31, 2017|        2013|    NR|  1 Season|British TV Shows,...|This two-part tal...|tt0000439|     short|The Great Train R...|The Great Train R...|              0|          1903|     \\N|         11|Action,Adventure,...|\n",
      "|  s8335|TV Show|The Great Train R...|               NULL|Luke Evans, Jim B...|      United Kingdom|    March 31, 2017|        2013|    NR|  1 Season|British TV Shows,...|This two-part tal...|tt0000487|     short|The Great Train R...|The Great Train R...|              0|          1904|     \\N|          8| Drama,Short,Western|\n",
      "|  s2793|TV Show|                 She|               NULL|Aaditi Pohankar, ...|               India|    March 20, 2020|        2020| TV-MA|  1 Season|Crime TV Shows, I...|An undercover ass...|tt0000757|     short|                 She|                 She|              0|          1908|     \\N|         \\N|Fantasy,Sci-Fi,Short|\n",
      "|  s8004|  Movie|     Sherlock Holmes|        Guy Ritchie|Robert Downey Jr....|United States, Ge...|   January 1, 2021|        2009| PG-13|   128 min|Action & Adventur...|The game is afoot...|tt0000758|     short|     Sherlock Holmes|Sherlock Holmes i...|              0|          1908|     \\N|         \\N|       Mystery,Short|\n",
      "|  s2121|  Movie|      Les Misérables|         Tom Hooper|Hugh Jackman, Rus...|United Kingdom, U...|   August 16, 2020|        2012| PG-13|   158 min|Dramas, Internati...|The musical versi...|tt0000969|     short|      Les Misérables|      Les Misérables|              0|          1909|     \\N|         44| Drama,History,Short|\n",
      "|   s644|  Movie|     The Seventh Day|    Justin P. Lange|Guy Pearce, Vadhi...|       United States|     June 24, 2021|        2021|     R|    87 min|       Horror Movies|An inexperienced ...|tt0001033|     short|     The Seventh Day|     The Seventh Day|              0|          1909|     \\N|          8|         Drama,Short|\n",
      "|  s1644|  Movie|            The Call|     Lee Chung-hyun|Park Shin-hye, Ju...|         South Korea| November 27, 2020|        2020| TV-MA|   112 min|International Mov...|Connected by phon...|tt0001144|     short|            The Call|            The Call|              0|          1910|     \\N|         11|         Drama,Short|\n",
      "|  s4671|TV Show|             Sisters|               NULL|Lucy Durack, Anto...|           Australia| September 1, 2018|        2018| TV-MA|  1 Season|International TV ...|Her dad's deathbe...|tt0001397|     short|             Sisters|             Sisters|              0|          1910|     \\N|         \\N|         Drama,Short|\n",
      "|  s6402|TV Show|       Cain and Abel|               NULL|So Ji-sub, Shin H...|         South Korea|    March 12, 2019|        2009| TV-MA|  1 Season|International TV ...|Gifted doctor Cho...|tt0001539|     short|       Cain and Abel|        Caïn et Abel|              0|          1911|     \\N|         \\N|         Drama,Short|\n",
      "|  s6805|  Movie|     Friday the 13th|      Marcus Nispel|Jared Padalecki, ...|       United States|   January 1, 2020|        2009|     R|    97 min|       Horror Movies|A group of teenag...|tt0001632|     short|     Friday the 13th|     Friday the 13th|              0|          1911|     \\N|         \\N|        Comedy,Short|\n",
      "|   s847|  Movie|                Home|        Tim Johnson|Jim Parsons, Riha...|       United States|      May 25, 2021|        2015|    PG|    94 min|Children & Family...|When misfit alien...|tt0001682|     short|                Home|                Home|              0|          1911|     \\N|         \\N|         Drama,Short|\n",
      "|  s4618|  Movie|       Paradise Lost| Monique Gardenberg|Júlio Andrade, Le...|              Brazil|September 29, 2018|        2018| TV-MA|   111 min|Dramas, Independe...|A cop moonlights ...|tt0001827|     short|       Paradise Lost|       Paradise Lost|              0|          1911|     \\N|         \\N|         Drama,Short|\n",
      "|  s2793|TV Show|                 She|               NULL|Aaditi Pohankar, ...|               India|    March 20, 2020|        2020| TV-MA|  1 Season|Crime TV Shows, I...|An undercover ass...|tt0001877|     short|                 She|                 She|              0|          1911|     \\N|         24|Fantasy,Sci-Fi,Short|\n",
      "|  s2717|  Movie|            Brothers|     Karan Malhotra|Akshay Kumar, Sid...|India, United States|     April 1, 2020|        2015| TV-14|   155 min|Action & Adventur...|After a troubled ...|tt0002076|     short|            Brothers|            Brothers|              0|          1912|     \\N|         \\N|         Drama,Short|\n",
      "|  s8284|  Movie|            The Duel| Kieran Darcy-Smith|Woody Harrelson, ...|       United States|      June 2, 2019|        2016|     R|   110 min|              Dramas|In 1866, a Texas ...|tt0002149|     short|            The Duel|            The Duel|              0|          1912|     \\N|         \\N|        Comedy,Short|\n",
      "|  s8294|TV Show|            The Fear|    Michael Samuels|Peter Mullan, Ana...|      United Kingdom|    March 31, 2017|        2012| TV-MA|  1 Season|British TV Shows,...|Richie Beckett is...|tt0002174|     short|            The Fear|            The Fear|              0|          1912|     \\N|         \\N|       Short,Western|\n",
      "|  s6807|TV Show|             Friends|               NULL|Jennifer Aniston,...|       United States|              NULL|        2003| TV-14|10 Seasons|Classic & Cult TV...|This hit sitcom f...|tt0002197|     short|             Friends|             Friends|              0|          1912|     \\N|         17|Romance,Short,Wes...|\n",
      "|  s2149|TV Show|        The Governor|               NULL|Caroline Chikezie...|             Nigeria|    August 8, 2020|        2016| TV-14|  1 Season|International TV ...|When sudden trage...|tt0002218|     short|        The Governor|        The Governor|              0|          1912|     \\N|         \\N|         Drama,Short|\n",
      "|   s452|  Movie|            Twilight|Catherine Hardwicke|Kristen Stewart, ...|       United States|     July 16, 2021|        2008| PG-13|   122 min|Action & Adventur...|When Bella Swan m...|tt0002545|     short|            Twilight|            Twilight|              0|          1912|     \\N|         \\N| Drama,Romance,Short|\n",
      "|  s2635|  Movie|          The Artist|Michel Hazanavicius|Jean Dujardin, Bé...|France, Belgium, ...|    April 25, 2020|        2011| PG-13|   101 min|Comedies, Dramas,...|Winner of five Os...|tt0002641|     short|          The Artist|          The Artist|              0|          1913|     \\N|         14|     Animation,Short|\n",
      "+-------+-------+--------------------+-------------------+--------------------+--------------------+------------------+------------+------+----------+--------------------+--------------------+---------+----------+--------------------+--------------------+---------------+--------------+-------+-----------+--------------------+\n",
      "only showing top 20 rows\n",
      "\n",
      "+----+\n",
      "| QTD|\n",
      "+----+\n",
      "|7247|\n",
      "+----+\n",
      "\n"
     ]
    }
   ],
   "source": [
    "df = spark.sql(\"\"\"\n",
    "SELECT \n",
    "          A.*\n",
    "          ,B.*\n",
    "FROM NETFLIX AS A \n",
    "INNER JOIN titulos AS B ON B.PRIMARYTITLE = A.TITLE\n",
    "\"\"\")\n",
    "\n",
    "df.show()\n",
    "\n",
    "df = df.dropDuplicates(['title'])\n",
    "\n",
    "df.createOrReplaceTempView('tabela_final')\n",
    "contador = spark.sql(\"\"\"SELECT COUNT(*) AS QTD FROM tabela_final\"\"\")\n",
    "contador.show()"
   ]
  },
  {
   "cell_type": "markdown",
   "metadata": {},
   "source": [
    "#### Nesse trecho, busquei identificar os principais filmes da Netflix com as melhores notas segundo as avaliações do IMDB, para verificar se a plataforma possui filmes de grande calibre. Comparei a bilheteria total dos filmes avaliados pelo IMDB e observei que a Netflix possui aproximadamente 1/5 do valor total das bilheterias dos filmes avaliados pelo IMDB."
   ]
  },
  {
   "cell_type": "code",
   "execution_count": 73,
   "metadata": {},
   "outputs": [
    {
     "name": "stdout",
     "output_type": "stream",
     "text": [
      "+--------------------+--------------------+--------------------+-----------------------+---------------+--------+----------+--------------------+-----------+----------+--------------+-------------+-------------+\n",
      "|              TITULO|             DIRETOR|                PAIS|DATA_QUE_FOI_ADICIONADO|DATA_LANCAMENTO|DURATION|TIPO_FILME|              GENERO|IMDB_RATING|META_SCORE|QTD_AVALIACOES|RECEITA_FILME|RECEITA_EM_MM|\n",
      "+--------------------+--------------------+--------------------+-----------------------+---------------+--------+----------+--------------------+-----------+----------+--------------+-------------+-------------+\n",
      "|        Pulp Fiction|   Quentin Tarantino|       United States|        January 1, 2019|           1994| 154 min|     movie|         Crime,Drama|        8.9|        94|       1826188| 107928762.00|   107.928762|\n",
      "|The Lord of the R...|       Peter Jackson|New Zealand, Unit...|        January 1, 2020|           2003| 201 min|     movie|Action,Adventure,...|        8.9|        94|       1642758| 377845905.00|   377.845905|\n",
      "|    Schindler's List|    Steven Spielberg|       United States|          April 1, 2018|           1993| 195 min|     movie|Biography,Drama,H...|        8.9|        94|       1213505|  96898818.00|    96.898818|\n",
      "|           Inception|   Christopher Nolan|United States, Un...|         August 1, 2021|           2010| 148 min| tvEpisode|              Comedy|        8.8|        74|       2067042| 292576195.00|   292.576195|\n",
      "|          The Matrix|Lilly Wachowski, ...|       United States|       November 1, 2019|           1999| 136 min|     movie|       Action,Sci-Fi|        8.7|        73|       1676426| 171479930.00|    171.47993|\n",
      "|The Lord of the R...|       Peter Jackson|New Zealand, Unit...|        January 1, 2020|           2002| 179 min|     movie|Action,Adventure,...|        8.7|        87|       1485555| 342551365.00|   342.551365|\n",
      "|               Joker|      Shirish Kunder|               India|         August 2, 2018|           2012|  98 min|     movie|        Comedy,Crime|        8.5|        59|        939252| 335451311.00|   335.451311|\n",
      "|    The Intouchables|Olivier Nakache, ...|              France|       January 11, 2021|           2011| 112 min|     movie|        Comedy,Drama|        8.5|        57|        760360|  13182281.00|    13.182281|\n",
      "|         The Pianist|      Roman Polański|United Kingdom, F...|          April 1, 2021|           2002| 149 min|     movie|             Romance|        8.5|        85|        729603|  32572577.00|    32.572577|\n",
      "|              Psycho|             Mysskin|               India|            May 1, 2020|           2020| 143 min|     movie|Horror,Mystery,Th...|        8.5|        97|        604211|  32000000.00|         32.0|\n",
      "|Once Upon a Time ...|        Sergio Leone|Italy, United States|      November 20, 2019|           1968| 166 min|     movie|             Western|        8.5|        80|        302844|   5321508.00|     5.321508|\n",
      "|        The Departed|     Martin Scorsese|United States, Ho...|        January 1, 2021|           2006| 151 min|     short|   Documentary,Short|        8.5|        85|       1189773| 132384315.00|   132.384315|\n",
      "|  American History X|           Tony Kaye|       United States|       November 1, 2019|           1998| 119 min|     movie|         Crime,Drama|        8.5|        62|       1034705|   6719864.00|     6.719864|\n",
      "|Avengers: Infinit...|Anthony Russo, Jo...|       United States|      December 25, 2018|           2018| 150 min| tvEpisode|           Animation|        8.4|        68|        834477| 678815482.00|   678.815482|\n",
      "|Spider-Man: Into ...|Peter Ramsey, Rod...|       United States|          June 26, 2019|           2018| 117 min| tvEpisode|              Comedy|        8.4|        87|        375110| 190241310.00|    190.24131|\n",
      "| The Lives of Others|Florian Henckel v...|             Germany|         March 15, 2019|           2006| 138 min|     movie|Drama,Mystery,Thr...|        8.4|        89|        358685|  11286112.00|    11.286112|\n",
      "|            3 Idiots|     Rajkumar Hirani|               India|          April 1, 2021|           2009| 164 min|     movie|        Comedy,Drama|        8.4|        67|        344445|   6532908.00|     6.532908|\n",
      "|Once Upon a Time ...|        Sergio Leone|Italy, United States|      September 1, 2021|           1984| 229 min|     movie|         Crime,Drama|        8.4|      NULL|        311365|   5321508.00|     5.321508|\n",
      "|    Taare Zameen Par|          Aamir Khan|               India|         April 17, 2021|           2007| 162 min|  tvSeries|     Game-Show,Music|        8.4|      NULL|        168895|   1223869.00|     1.223869|\n",
      "|              Dangal|       Nitesh Tiwari|               India|          June 21, 2017|           2016| 161 min| tvEpisode|               Drama|        8.4|      NULL|        156479|  12391761.00|    12.391761|\n",
      "+--------------------+--------------------+--------------------+-----------------------+---------------+--------+----------+--------------------+-----------+----------+--------------+-------------+-------------+\n",
      "only showing top 20 rows\n",
      "\n"
     ]
    },
    {
     "data": {
      "text/plain": [
       "172"
      ]
     },
     "metadata": {},
     "output_type": "display_data"
    },
    {
     "data": {
      "text/plain": [
       "'valor total de bilheteria de todos os filmes avaliados pelo IMDB: R$ 55.059.273.035,00'"
      ]
     },
     "metadata": {},
     "output_type": "display_data"
    },
    {
     "data": {
      "text/plain": [
       "'Valor total de bilheteria dos filmes netflix: R$ 10.561.658.884,00'"
      ]
     },
     "metadata": {},
     "output_type": "display_data"
    }
   ],
   "source": [
    "df_imdb = spark.read.load(r'C:\\Users\\joth1\\Documents\\z_projetinho_pyspark\\imdb_top_1000.csv',     header=True,  inferSchema=True,    sep=',',    format='csv')\n",
    "# df_imdb.show()\n",
    "\n",
    "from pyspark.sql.functions import regexp_replace\n",
    "from pyspark.sql.functions import col, when, sum\n",
    "from pyspark.sql.types import DoubleType\n",
    "\n",
    "\n",
    "df_imdb = df_imdb.withColumn('gross', regexp_replace('gross', ',', ''))\n",
    "df_imdb = df_imdb.withColumn('gross', col('gross').cast(DoubleType()))\n",
    "\n",
    "\n",
    "df_imdb.createOrReplaceTempView('dados_imdb')\n",
    "\n",
    "\n",
    "df_final = spark.sql(\n",
    "\"\"\"\n",
    "SELECT\n",
    "    TRIM(A.TITLE) AS TITULO\n",
    "    ,TRIM(A.DIRECTOR) AS DIRETOR\n",
    "    ,TRIM(A.COUNTRY) AS PAIS\n",
    "    ,A.DATE_ADDED AS DATA_QUE_FOI_ADICIONADO\n",
    "    ,A.RELEASE_YEAR AS DATA_LANCAMENTO\n",
    "    ,A.DURATION\n",
    "    ,A.TIPO_FILME\n",
    "    ,TRIM(A.GENERO) AS GENERO\n",
    "    ,B.IMDB_RATING\n",
    "    ,B.META_SCORE\n",
    "    ,B.NO_OF_VOTES AS QTD_AVALIACOES\n",
    "    ,CAST(B.GROSS AS DECIMAL(18, 2)) AS RECEITA_FILME\n",
    "    ,CAST(B.GROSS AS BIGINT)/1000000 AS RECEITA_EM_MM\n",
    "\n",
    "FROM tabela_final AS A \n",
    "INNER JOIN DADOS_IMDB AS B ON B.SERIES_TITLE = A.TITLE\n",
    "ORDER BY IMDB_RATING DESC, NO_OF_VOTES DESC\n",
    "\"\"\")\n",
    "df_final.show()\n",
    "numero = df_final.count()\n",
    "display(numero)\n",
    "\n",
    "\n",
    "\n",
    "soma_valor_netflix = df_final.select(sum(\"RECEITA_FILME\")).collect()[0][0]\n",
    "soma_valor = df_imdb.select(sum(\"gross\")).collect()[0][0]\n",
    "\n",
    "\n",
    "import locale\n",
    "# Define a localidade para o Brasil\n",
    "locale.setlocale(locale.LC_ALL, 'pt_BR.UTF-8')\n",
    "# Formata o valor como moeda brasileira\n",
    "soma_valor = locale.currency(soma_valor, grouping=True)\n",
    "soma_valor_netflix = locale.currency(soma_valor_netflix, grouping=True)\n",
    "\n",
    "display('valor total de bilheteria de todos os filmes avaliados pelo IMDB: ' + soma_valor)\n",
    "display('Valor total de bilheteria dos filmes netflix: ' + soma_valor_netflix)"
   ]
  },
  {
   "cell_type": "markdown",
   "metadata": {},
   "source": [
    "#### Aqui eu peguei todos os filmes que a netflix tem que não foram registrados na tabela de filmes mundiais, caso alguém queira ver"
   ]
  },
  {
   "cell_type": "code",
   "execution_count": 76,
   "metadata": {},
   "outputs": [
    {
     "name": "stdout",
     "output_type": "stream",
     "text": [
      "+-------+-------+--------------------+------------------+--------------------+--------------------+------------------+------------+------+--------+--------------------+--------------------+--------+----------+------------+-------------+---------------+--------------+-------+-----------+------+\n",
      "|show_id|   type|               title|          director|                cast|             country|        date_added|release_year|rating|duration|           listed_in|         description|id_filme|tipo_filme|primaryTitle|originalTitle|fl_filme_adulto|ano_lancamento|endYear|tempo_filme|genero|\n",
      "+-------+-------+--------------------+------------------+--------------------+--------------------+------------------+------------+------+--------+--------------------+--------------------+--------+----------+------------+-------------+---------------+--------------+-------+-----------+------+\n",
      "|  s2482|  Movie|   #FriendButMarried|     Rako Prijanto|Adipati Dolken, V...|           Indonesia|      May 21, 2020|        2018|  TV-G| 102 min|Dramas, Internati...|Pining for his hi...|    NULL|      NULL|        NULL|         NULL|           NULL|          NULL|   NULL|       NULL|  NULL|\n",
      "|  s5278|  Movie|        #realityhigh|  Fernando Lebrija|Nesta Cooper, Kat...|       United States| September 8, 2017|        2017| TV-14|  99 min|            Comedies|When nerdy high s...|    NULL|      NULL|        NULL|         NULL|           NULL|          NULL|   NULL|       NULL|  NULL|\n",
      "|  s5986|  Movie|        12 ROUND GUN|         Sam Upton|Sam Upton, Jared ...|       United States|    March 14, 2019|        2017| TV-MA|  90 min|Dramas, Independe...|Dealing with pers...|    NULL|      NULL|        NULL|         NULL|           NULL|          NULL|   NULL|       NULL|  NULL|\n",
      "|  s6021|  Movie|                 5CM|   Rizal Mantovani|Herjunot Ali, Ral...|           Indonesia|September 28, 2018|        2012| TV-14| 126 min|Dramas, Internati...|Five friends emba...|    NULL|      NULL|        NULL|         NULL|           NULL|          NULL|   NULL|       NULL|  NULL|\n",
      "|  s6055|  Movie|A Russell Peters ...|Henry Sarwer-Foner|Russell Peters, P...|              Canada|  November 1, 2013|        2011|    NR|  44 min|     Stand-Up Comedy|\"Inspired by the ...|    NULL|      NULL|        NULL|         NULL|           NULL|          NULL|   NULL|       NULL|  NULL|\n",
      "|  s6068|TV Show|A.D. Kingdom and ...|              NULL|Juan Pablo Di Pac...|       United States| December 15, 2017|        2015| TV-14|1 Season|           TV Dramas|In the wake of Je...|    NULL|      NULL|        NULL|         NULL|           NULL|          NULL|   NULL|       NULL|  NULL|\n",
      "|  s5448|  Movie|        Aashik Awara|       Umesh Mehra|Saif Ali Khan, Ma...|               India|      June 1, 2017|        1993| TV-14| 154 min|Dramas, Internati...|Raised by a kindl...|    NULL|      NULL|        NULL|         NULL|           NULL|          NULL|   NULL|       NULL|  NULL|\n",
      "|  s2308|TV Show|        Abby Hatcher|       Kyran Kelly|Macy Drouin, Wyat...|United States, Ca...|      July 1, 2020|        2019|  TV-Y|1 Season|            Kids' TV|A big-hearted gir...|    NULL|      NULL|        NULL|         NULL|           NULL|          NULL|   NULL|       NULL|  NULL|\n",
      "|  s5088|  Movie|Alejandro Riaño: ...|              NULL|     Alejandro Riaño|            Colombia|  January 10, 2018|        2018| TV-MA|  60 min|     Stand-Up Comedy|Colombian comedia...|    NULL|      NULL|        NULL|         NULL|           NULL|          NULL|   NULL|       NULL|  NULL|\n",
      "|  s2310|  Movie|Ali Baba ve 7 Cüc...|        Cem Yılmaz|Cem Yılmaz, Irina...|              Turkey|      July 1, 2020|        2015| TV-MA| 115 min|Action & Adventur...|A garden gnome ve...|    NULL|      NULL|        NULL|         NULL|           NULL|          NULL|   NULL|       NULL|  NULL|\n",
      "|  s2330|TV Show|        All For Love|              NULL|Ana María Estupiñ...|            Colombia|     June 26, 2020|        2020| TV-MA|1 Season|International TV ...|A penniless count...|    NULL|      NULL|        NULL|         NULL|           NULL|          NULL|   NULL|       NULL|  NULL|\n",
      "|  s4402|  Movie|All's Well, End's...|       Vincent Kok|Louis Koo, Sandra...|           Hong Kong|  November 9, 2018|        2009| TV-14|  99 min|Comedies, Interna...|Bound by a family...|    NULL|      NULL|        NULL|         NULL|           NULL|          NULL|   NULL|       NULL|  NULL|\n",
      "|  s5449|  Movie|Amelia: A Tale of...|  Edward Cotterill|    Rachael Stirling|      United Kingdom|      June 1, 2017|        2017| TV-PG|  44 min|       Documentaries|Eight decades aft...|    NULL|      NULL|        NULL|         NULL|           NULL|          NULL|   NULL|       NULL|  NULL|\n",
      "|  s1882|  Movie|American Pie 9: G...|      Mike Elliott|Madison Pettis, L...|       United States|   October 6, 2020|        2020|     R|  96 min|            Comedies|Four tight-knit h...|    NULL|      NULL|        NULL|         NULL|           NULL|          NULL|   NULL|       NULL|  NULL|\n",
      "|  s3363|  Movie|Arsenio Hall: Sma...|  Brian Volk-Weiss|        Arsenio Hall|       United States|  October 29, 2019|        2019| TV-MA|  63 min|     Stand-Up Comedy|In his first stan...|    NULL|      NULL|        NULL|         NULL|           NULL|          NULL|   NULL|       NULL|  NULL|\n",
      "|  s1447|  Movie|      Bad Grandpa .5|     Jeff Tremaine|Johnny Knoxville,...|       United States|   January 1, 2021|        2014| TV-MA|  87 min|            Comedies|The geriatric ant...|    NULL|      NULL|        NULL|         NULL|           NULL|          NULL|   NULL|       NULL|  NULL|\n",
      "|  s6276|TV Show| Behind the Newsroom|              NULL|Pok Piyatida Wora...|                NULL|September 14, 2018|        2015| TV-MA|1 Season|International TV ...|Confident and coo...|    NULL|      NULL|        NULL|         NULL|           NULL|          NULL|   NULL|       NULL|  NULL|\n",
      "|  s6288|  Movie|      Best Neighbors|   Tamer Bassiouni|Sameh Hussain, Me...|                NULL|      June 6, 2019|        2014| TV-14|  98 min|Comedies, Interna...|A just-married co...|    NULL|      NULL|        NULL|         NULL|           NULL|          NULL|   NULL|       NULL|  NULL|\n",
      "|  s3436|TV Show|Beyblade Burst Turbo|              NULL|Laura Stahl, Bill...|                NULL|  October 10, 2019|        2018| TV-Y7|1 Season|Anime Series, Kid...|Yearning to earn ...|    NULL|      NULL|        NULL|         NULL|           NULL|          NULL|   NULL|       NULL|  NULL|\n",
      "|  s4230|  Movie|Bill Hicks: One N...|  John Fortenberry|          Bill Hicks|      United Kingdom| December 31, 2018|        1991| TV-MA|  28 min|     Stand-Up Comedy|Bill Hicks rememb...|    NULL|      NULL|        NULL|         NULL|           NULL|          NULL|   NULL|       NULL|  NULL|\n",
      "+-------+-------+--------------------+------------------+--------------------+--------------------+------------------+------------+------+--------+--------------------+--------------------+--------+----------+------------+-------------+---------------+--------------+-------+-----------+------+\n",
      "only showing top 20 rows\n",
      "\n"
     ]
    }
   ],
   "source": [
    "df_somente_netflix = spark.sql(\"\"\"\n",
    "SELECT \n",
    "          A.*\n",
    "          ,B.*\n",
    "FROM NETFLIX AS A \n",
    "LEFT JOIN titulos AS B ON B.PRIMARYTITLE = A.TITLE\n",
    "WHERE B.PRIMARYTITLE IS NULL\n",
    "\"\"\")\n",
    "\n",
    "df_somente_netflix.show()\n",
    "\n",
    "numero = df_somente_netflix.count()\n",
    "display('numero de filmes que a netflix possui que não foram registrados no catalogo de filmes/series existentes: ' + str(numero))"
   ]
  },
  {
   "cell_type": "code",
   "execution_count": null,
   "metadata": {},
   "outputs": [],
   "source": []
  }
 ],
 "metadata": {
  "kernelspec": {
   "display_name": "Python 3",
   "language": "python",
   "name": "python3"
  },
  "language_info": {
   "codemirror_mode": {
    "name": "ipython",
    "version": 3
   },
   "file_extension": ".py",
   "mimetype": "text/x-python",
   "name": "python",
   "nbconvert_exporter": "python",
   "pygments_lexer": "ipython3",
   "version": "3.12.0"
  }
 },
 "nbformat": 4,
 "nbformat_minor": 2
}
