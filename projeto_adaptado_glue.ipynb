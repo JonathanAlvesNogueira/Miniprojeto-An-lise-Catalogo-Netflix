{
 "cells": [
  {
   "cell_type": "markdown",
   "metadata": {
    "vscode": {
     "languageId": "bat"
    }
   },
   "source": [
    "#### Mini-projeto de análise no Glue"
   ]
  },
  {
   "cell_type": "code",
   "execution_count": null,
   "metadata": {},
   "outputs": [],
   "source": [
    "# Configurações\n",
    "import sys\n",
    "import pandas as pd\n",
    "import awswrangler as wr\n",
    "import boto3\n",
    "\n",
    "# FROMs\n",
    "from awsglue.transforms import *\n",
    "from awsglue.utils import getResolvedOptions\n",
    "from pyspark.context import SparkContext\n",
    "from awsglue.context import GlueContext\n",
    "from awsglue.job import Job\n",
    "\n",
    "# Meus Imports\n",
    "from pyspark.sql.functions import col, lit\n",
    "from datetime import datetime\n",
    "from datetime import datetime, date, timedelta\n",
    "\n",
    "# Inicializar o SparkContext e o GlueContext\n",
    "sc = SparkContext.getOrCreate()\n",
    "glueContext = GlueContext(sc)\n",
    "spark = glueContext.spark_session\n",
    "job = Job(glueContext)\n",
    "\n",
    "# Parâmetros do Job\n",
    "args = getResolvedOptions(sys.argv, ['JOB_NAME'])\n",
    "job.init(args['JOB_NAME'], args)"
   ]
  },
  {
   "cell_type": "code",
   "execution_count": 23,
   "metadata": {},
   "outputs": [
    {
     "name": "stdout",
     "output_type": "stream",
     "text": [
      "+--------------------+-------+---------+--------------------+--------------+---------+\n",
      "|        primaryTitle|isAdult|startYear|              genres|runtimeMinutes|titleType|\n",
      "+--------------------+-------+---------+--------------------+--------------+---------+\n",
      "|          Carmencita|      0|     1894|   Documentary,Short|             1|    short|\n",
      "|Le clown et ses c...|      0|     1892|     Animation,Short|             5|    short|\n",
      "|      Pauvre Pierrot|      0|     1892|Animation,Comedy,...|             4|    short|\n",
      "|         Un bon bock|      0|     1892|     Animation,Short|            12|    short|\n",
      "|    Blacksmith Scene|      0|     1893|        Comedy,Short|             1|    short|\n",
      "|   Chinese Opium Den|      0|     1894|               Short|             1|    short|\n",
      "|Corbett and Court...|      0|     1894|         Short,Sport|             1|    short|\n",
      "|Edison Kinetoscop...|      0|     1894|   Documentary,Short|             1|    short|\n",
      "|          Miss Jerry|      0|     1894|             Romance|            45|    movie|\n",
      "| Leaving the Factory|      0|     1895|   Documentary,Short|             1|    short|\n",
      "|Akrobatisches Pot...|      0|     1895|   Documentary,Short|             1|    short|\n",
      "|The Arrival of a ...|      0|     1896|   Documentary,Short|             1|    short|\n",
      "|The Photographica...|      0|     1895|   Documentary,Short|             1|    short|\n",
      "| The Waterer Watered|      0|     1895|        Comedy,Short|             1|    short|\n",
      "| Autour d'une cabine|      0|     1894|     Animation,Short|             2|    short|\n",
      "|Boat Leaving the ...|      0|     1895|   Documentary,Short|             1|    short|\n",
      "|Italienischer Bau...|      0|     1895|   Documentary,Short|             1|    short|\n",
      "|Das boxende Känguruh|      0|     1895|               Short|             1|    short|\n",
      "|    The Clown Barber|      0|     1898|        Comedy,Short|            \\N|    short|\n",
      "|      The Derby 1895|      0|     1895|Documentary,Short...|             1|    short|\n",
      "+--------------------+-------+---------+--------------------+--------------+---------+\n",
      "only showing top 20 rows\n",
      "\n"
     ]
    }
   ],
   "source": [
    "import pyspark\n",
    "from pyspark.sql import SparkSession\n",
    "import pandas as pd\n",
    "\n",
    "database_name = 'projetos_jony'\n",
    "table_name = 'titulos_filmes_existentes'\n",
    "\n",
    "# Base com todos os titulos existentes\n",
    "df_titles = glueContext.create_dynamic_frame.from_catalog(\n",
    "    database = database_name, \n",
    "    table_name = table_name,\n",
    "    push_down_predicate = \"ANOMES = 202407\"\n",
    ")\n",
    "\n",
    "df_titles.toDF()\n",
    "\n",
    "df_selec = df_titles.select('primaryTitle', 'isAdult', 'startYear', 'genres', 'runtimeMinutes', 'titleType')\n",
    "df_selec.show()"
   ]
  },
  {
   "cell_type": "code",
   "execution_count": 10,
   "metadata": {},
   "outputs": [
    {
     "name": "stdout",
     "output_type": "stream",
     "text": [
      "+-------+--------------------+--------------------+------------------+------------+---------+\n",
      "|   type|               title|            director|        date_added|release_year| duration|\n",
      "+-------+--------------------+--------------------+------------------+------------+---------+\n",
      "|  Movie|Dick Johnson Is Dead|     Kirsten Johnson|September 25, 2021|        2020|   90 min|\n",
      "|TV Show|       Blood & Water|                NULL|September 24, 2021|        2021|2 Seasons|\n",
      "|TV Show|           Ganglands|     Julien Leclercq|September 24, 2021|        2021| 1 Season|\n",
      "|TV Show|Jailbirds New Orl...|                NULL|September 24, 2021|        2021| 1 Season|\n",
      "|TV Show|        Kota Factory|                NULL|September 24, 2021|        2021|2 Seasons|\n",
      "|TV Show|       Midnight Mass|       Mike Flanagan|September 24, 2021|        2021| 1 Season|\n",
      "|  Movie|My Little Pony: A...|Robert Cullen, Jo...|September 24, 2021|        2021|   91 min|\n",
      "|  Movie|             Sankofa|        Haile Gerima|September 24, 2021|        1993|  125 min|\n",
      "|TV Show|The Great British...|     Andy Devonshire|September 24, 2021|        2021|9 Seasons|\n",
      "|  Movie|        The Starling|      Theodore Melfi|September 24, 2021|        2021|  104 min|\n",
      "|TV Show|Vendetta: Truth, ...|                NULL|September 24, 2021|        2021| 1 Season|\n",
      "|TV Show|    Bangkok Breaking|   Kongkiat Komesiri|September 23, 2021|        2021| 1 Season|\n",
      "|  Movie|        Je Suis Karl| Christian Schwochow|September 23, 2021|        2021|  127 min|\n",
      "|  Movie|Confessions of an...|       Bruno Garotti|September 22, 2021|        2021|   91 min|\n",
      "|TV Show|Crime Stories: In...|                NULL|September 22, 2021|        2021| 1 Season|\n",
      "|TV Show|   Dear White People|                NULL|September 22, 2021|        2021|4 Seasons|\n",
      "|  Movie|Europe's Most Dan...|Pedro de Echave G...|September 22, 2021|        2020|   67 min|\n",
      "|TV Show|     Falsa identidad|                NULL|September 22, 2021|        2020|2 Seasons|\n",
      "|  Movie|           Intrusion|          Adam Salky|September 22, 2021|        2021|   94 min|\n",
      "|TV Show|              Jaguar|                NULL|September 22, 2021|        2021| 1 Season|\n",
      "+-------+--------------------+--------------------+------------------+------------+---------+\n",
      "only showing top 20 rows\n",
      "\n"
     ]
    },
    {
     "data": {
      "text/plain": [
       "8809"
      ]
     },
     "metadata": {},
     "output_type": "display_data"
    }
   ],
   "source": [
    "# df_netflix = spark.read.load(r'C:\\Users\\joth1\\Documents\\z_projetinho_pyspark\\netflix_titles.csv',     header=True,  inferSchema=True,    sep=',',    format='csv')\n",
    "\n",
    "\n",
    "database_name = 'projetos_jony'\n",
    "table_name = 'netflix_titles'\n",
    "\n",
    "# Base com todos os titulos netflix\n",
    "df_netflix = glueContext.create_dynamic_frame.from_catalog(\n",
    "    database = database_name, \n",
    "    table_name = table_name,\n",
    "    push_down_predicate = \"ANOMES = 202407\"\n",
    ")\n",
    "df_netflix.toDF()\n",
    "\n",
    "\n",
    "df_netflix = df_netflix.select('type', 'title', 'director','date_added', 'release_year', 'duration')\n",
    "df_netflix.show()\n",
    "\n",
    "\n",
    "# Pega o número total de filmes no catalogo de dados da netflix\n",
    "numero = df_netflix.count()\n",
    "display(numero)"
   ]
  },
  {
   "cell_type": "code",
   "execution_count": 22,
   "metadata": {},
   "outputs": [
    {
     "name": "stdout",
     "output_type": "stream",
     "text": [
      "+--------------------+--------------------+--------------------+-----------+------------+-------+----------+-----------+\n",
      "|               genre|        Series_Title|            director|No_of_Votes|       Gross|Runtime|Meta_score|IMDB_Rating|\n",
      "+--------------------+--------------------+--------------------+-----------+------------+-------+----------+-----------+\n",
      "|               Drama|The Shawshank Red...|      Frank Darabont|    2343110| 2.8341469E7|142 min|        80|        9.3|\n",
      "|        Crime, Drama|       The Godfather|Francis Ford Coppola|    1620367|1.34966411E8|175 min|       100|        9.2|\n",
      "|Action, Crime, Drama|     The Dark Knight|   Christopher Nolan|    2303232|5.34858444E8|152 min|        84|        9.0|\n",
      "|        Crime, Drama|The Godfather: Pa...|Francis Ford Coppola|    1129952|      5.73E7|202 min|        90|        9.0|\n",
      "|        Crime, Drama|        12 Angry Men|        Sidney Lumet|     689845|   4360000.0| 96 min|        96|        9.0|\n",
      "|Action, Adventure...|The Lord of the R...|       Peter Jackson|    1642758|3.77845905E8|201 min|        94|        8.9|\n",
      "|        Crime, Drama|        Pulp Fiction|   Quentin Tarantino|    1826188|1.07928762E8|154 min|        94|        8.9|\n",
      "|Biography, Drama,...|    Schindler's List|    Steven Spielberg|    1213505| 9.6898818E7|195 min|        94|        8.9|\n",
      "|Action, Adventure...|           Inception|   Christopher Nolan|    2067042|2.92576195E8|148 min|        74|        8.8|\n",
      "|               Drama|          Fight Club|       David Fincher|    1854740| 3.7030102E7|139 min|        66|        8.8|\n",
      "|Action, Adventure...|The Lord of the R...|       Peter Jackson|    1661481| 3.1554475E8|178 min|        92|        8.8|\n",
      "|      Drama, Romance|        Forrest Gump|     Robert Zemeckis|    1809221|3.30252182E8|142 min|        82|        8.8|\n",
      "|             Western|Il buono, il brut...|        Sergio Leone|     688390|   6100000.0|161 min|        90|        8.8|\n",
      "|Action, Adventure...|The Lord of the R...|       Peter Jackson|    1485555|3.42551365E8|179 min|        87|        8.7|\n",
      "|      Action, Sci-Fi|          The Matrix|      Lana Wachowski|    1676426| 1.7147993E8|136 min|        73|        8.7|\n",
      "|Biography, Crime,...|          Goodfellas|     Martin Scorsese|    1020727| 4.6836394E7|146 min|        90|        8.7|\n",
      "|Action, Adventure...|Star Wars: Episod...|      Irvin Kershner|    1159315|2.90475067E8|124 min|        82|        8.7|\n",
      "|               Drama|One Flew Over the...|        Milos Forman|     918088|      1.12E8|133 min|        83|        8.7|\n",
      "|Biography, Drama,...|            Hamilton|         Thomas Kail|      55291|        NULL|160 min|        90|        8.6|\n",
      "|Comedy, Drama, Th...|        Gisaengchung|        Bong Joon Ho|     552778| 5.3367844E7|132 min|        96|        8.6|\n",
      "+--------------------+--------------------+--------------------+-----------+------------+-------+----------+-----------+\n",
      "only showing top 20 rows\n",
      "\n"
     ]
    }
   ],
   "source": [
    "database_name = 'projetos_jony'\n",
    "table_name = 'idmb_filmes'\n",
    "\n",
    "df_imdb = glueContext.create_dynamic_frame.from_catalog(\n",
    "    database = database_name, \n",
    "    table_name = table_name,\n",
    "    push_down_predicate = \"ANOMES = 202407\"\n",
    ")\n",
    "df_imdb.toDF()\n",
    "\n",
    "\n",
    "df_imdb = df_imdb.select('genre', 'Series_Title', 'director', 'No_of_Votes', 'Gross', 'Runtime', 'Meta_score', 'IMDB_Rating')\n",
    "# df_imdb.show()\n",
    "\n",
    "from pyspark.sql.functions import regexp_replace, col\n",
    "from pyspark.sql.types import DoubleType\n",
    "\n",
    "df_imdb = df_imdb.withColumn('Gross', regexp_replace('Gross',',', ''))\n",
    "df_imdb = df_imdb.withColumn('Gross', col('Gross').cast(DoubleType()))\n",
    "df_imdb.show()"
   ]
  },
  {
   "cell_type": "code",
   "execution_count": 41,
   "metadata": {},
   "outputs": [
    {
     "name": "stdout",
     "output_type": "stream",
     "text": [
      "+--------------------+--------------------+---------------+--------+---------+--------------------+-----------+----------+--------------+-------------+-------------+\n",
      "|              TITULO|             DIRETOR|DATA_LANCAMENTO|duration|titleType|              GENERO|IMDB_RATING|META_SCORE|QTD_AVALIACOES|RECEITA_FILME|RECEITA_EM_MM|\n",
      "+--------------------+--------------------+---------------+--------+---------+--------------------+-----------+----------+--------------+-------------+-------------+\n",
      "|        Pulp Fiction|   Quentin Tarantino|           1994| 154 min|    movie|         Crime,Drama|        8.9|        94|       1826188| 107928762.00|   107.928762|\n",
      "|The Lord of the R...|       Peter Jackson|           2003| 201 min|    movie|Action,Adventure,...|        8.9|        94|       1642758| 377845905.00|   377.845905|\n",
      "|    Schindler's List|    Steven Spielberg|           1993| 195 min|    movie|Biography,Drama,H...|        8.9|        94|       1213505|  96898818.00|    96.898818|\n",
      "|           Inception|   Christopher Nolan|           2010| 148 min|tvEpisode|              Comedy|        8.8|        74|       2067042| 292576195.00|   292.576195|\n",
      "|          The Matrix|Lilly Wachowski, ...|           1999| 136 min|    movie|       Action,Sci-Fi|        8.7|        73|       1676426| 171479930.00|    171.47993|\n",
      "|The Lord of the R...|       Peter Jackson|           2002| 179 min|    movie|Action,Adventure,...|        8.7|        87|       1485555| 342551365.00|   342.551365|\n",
      "|               Joker|      Shirish Kunder|           2012|  98 min|    movie|        Comedy,Crime|        8.5|        59|        939252| 335451311.00|   335.451311|\n",
      "|    The Intouchables|Olivier Nakache, ...|           2011| 112 min|    movie|        Comedy,Drama|        8.5|        57|        760360|  13182281.00|    13.182281|\n",
      "|         The Pianist|      Roman Polański|           2002| 149 min|    movie|             Romance|        8.5|        85|        729603|  32572577.00|    32.572577|\n",
      "|              Psycho|             Mysskin|           2020| 143 min|    movie|Horror,Mystery,Th...|        8.5|        97|        604211|  32000000.00|         32.0|\n",
      "|Once Upon a Time ...|        Sergio Leone|           1968| 166 min|    movie|             Western|        8.5|        80|        302844|   5321508.00|     5.321508|\n",
      "|        The Departed|     Martin Scorsese|           2006| 151 min|    short|   Documentary,Short|        8.5|        85|       1189773| 132384315.00|   132.384315|\n",
      "|  American History X|           Tony Kaye|           1998| 119 min|    movie|         Crime,Drama|        8.5|        62|       1034705|   6719864.00|     6.719864|\n",
      "|Avengers: Infinit...|Anthony Russo, Jo...|           2018| 150 min|tvEpisode|           Animation|        8.4|        68|        834477| 678815482.00|   678.815482|\n",
      "|Spider-Man: Into ...|Peter Ramsey, Rod...|           2018| 117 min|tvEpisode|              Comedy|        8.4|        87|        375110| 190241310.00|    190.24131|\n",
      "| The Lives of Others|Florian Henckel v...|           2006| 138 min|    movie|Drama,Mystery,Thr...|        8.4|        89|        358685|  11286112.00|    11.286112|\n",
      "|            3 Idiots|     Rajkumar Hirani|           2009| 164 min|    movie|        Comedy,Drama|        8.4|        67|        344445|   6532908.00|     6.532908|\n",
      "|Once Upon a Time ...|        Sergio Leone|           1984| 229 min|    movie|         Crime,Drama|        8.4|      NULL|        311365|   5321508.00|     5.321508|\n",
      "|    Taare Zameen Par|          Aamir Khan|           2007| 162 min| tvSeries|     Game-Show,Music|        8.4|      NULL|        168895|   1223869.00|     1.223869|\n",
      "|              Dangal|       Nitesh Tiwari|           2016| 161 min|tvEpisode|               Drama|        8.4|      NULL|        156479|  12391761.00|    12.391761|\n",
      "+--------------------+--------------------+---------------+--------+---------+--------------------+-----------+----------+--------------+-------------+-------------+\n",
      "only showing top 20 rows\n",
      "\n"
     ]
    },
    {
     "data": {
      "text/plain": [
       "172"
      ]
     },
     "metadata": {},
     "output_type": "display_data"
    }
   ],
   "source": [
    "df_imdb.createOrReplaceTempView('dados_imdb')\n",
    "df_netflix.createOrReplaceTempView('netflix')\n",
    "df_titles.createOrReplaceTempView('titulos')\n",
    "\n",
    "\n",
    "\n",
    "# Pega somentos os titulos que existem na netflix e estão cadastrados no catalogo de filmes certificados\n",
    "df = spark.sql(\"\"\"\n",
    "SELECT \n",
    "          A.*\n",
    "          ,B.*\n",
    "FROM NETFLIX AS A \n",
    "INNER JOIN titulos AS B ON B.PRIMARYTITLE = A.TITLE\n",
    "\"\"\")\n",
    "# df.show()\n",
    "df = df.dropDuplicates(['title'])\n",
    "df.createOrReplaceTempView('tabela_final')\n",
    "\n",
    "\n",
    "df_final = spark.sql(\n",
    "\"\"\"\n",
    "SELECT\n",
    "    TRIM(A.PRIMARYTITLE) AS TITULO\n",
    "    ,TRIM(A.DIRECTOR) AS DIRETOR\n",
    "    -- ,TRIM(A.COUNTRY) AS PAIS\n",
    "    -- ,A.DATE_ADDED AS DATA_QUE_FOI_ADICIONADO\n",
    "    ,A.release_year AS DATA_LANCAMENTO\n",
    "    ,A.duration\n",
    "    ,A.titleType\n",
    "    ,TRIM(A.genres) AS GENERO\n",
    "\n",
    "    \n",
    "    ,B.IMDB_RATING\n",
    "    ,B.META_SCORE\n",
    "    ,B.NO_OF_VOTES AS QTD_AVALIACOES\n",
    "    ,CAST(B.GROSS AS DECIMAL(18, 2)) AS RECEITA_FILME\n",
    "    ,CAST(B.GROSS AS BIGINT)/1000000 AS RECEITA_EM_MM\n",
    "\n",
    "FROM tabela_final AS A \n",
    "INNER JOIN DADOS_IMDB AS B ON B.SERIES_TITLE = A.TITLE\n",
    "ORDER BY IMDB_RATING DESC, NO_OF_VOTES DESC\n",
    "\"\"\")\n",
    "df_final.show()\n",
    "numero = df_final.count()\n",
    "display(numero)"
   ]
  },
  {
   "cell_type": "markdown",
   "metadata": {},
   "source": [
    "### Salva a base no catalogo de dados do Glue"
   ]
  },
  {
   "cell_type": "code",
   "execution_count": null,
   "metadata": {},
   "outputs": [],
   "source": [
    "hoje = datetime.today()\n",
    "hoje_formatado = hoje.strftime('%Y%m%d')\n",
    "\n",
    "print(hoje_formatado)\n",
    "\n",
    "# Insere a coluna com partição dentro do dataframe\n",
    "df = df.withColumn('anomesdia', lit(hoje_formatado))\n",
    "\n",
    "\n",
    "# Converte o DataFrame para um DynamicFrame\n",
    "dynamic_frame = DynamicFrame.fromDF(df, glueContext, \"dynamic_frame\")\n",
    "\n",
    "# Especifica o nome do database e tabela no Glue Catalog\n",
    "database_name = \"projetos_jony\"\n",
    "table_name = \"tb_analise_netflix\"\n",
    "\n",
    "# Caminho do S3 onde os dados serão salvos\n",
    "s3_path = \"s3://aprendendo_glue/jony/\"\n",
    "\n",
    "# Configura o GlueSink para gravar no catálogo do Glue\n",
    "sink = glueContext.getSink(\n",
    "    connection_type=\"s3\",\n",
    "    path=s3_path,\n",
    "    enableUpdateCatalog=True,\n",
    "    updateBehavior=\"UPDATE_IN_DATABASE\",\n",
    "    partitionKeys=[\"anomesdia\"]\n",
    ")\n",
    "\n",
    "sink.setFormat(\"glueparquet\")\n",
    "sink.setCatalogInfo(catalogDatabase=database_name,catalogTableName=table_name)\n",
    "\n",
    "# Grava o DynamicFrame no S3 e atualiza o catálogo do Glue\n",
    "sink.writeFrame(dynamic_frame)\n",
    "\n",
    "# logging.info('Processo Finalizado')"
   ]
  }
 ],
 "metadata": {
  "kernelspec": {
   "display_name": "Python 3",
   "language": "python",
   "name": "python3"
  },
  "language_info": {
   "codemirror_mode": {
    "name": "ipython",
    "version": 3
   },
   "file_extension": ".py",
   "mimetype": "text/x-python",
   "name": "python",
   "nbconvert_exporter": "python",
   "pygments_lexer": "ipython3",
   "version": "3.12.0"
  }
 },
 "nbformat": 4,
 "nbformat_minor": 2
}
